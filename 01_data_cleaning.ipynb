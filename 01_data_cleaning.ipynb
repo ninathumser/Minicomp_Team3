{
 "cells": [
  {
   "cell_type": "code",
   "execution_count": 2,
   "metadata": {},
   "outputs": [],
   "source": [
    "import pandas as pd\n",
    "import numpy as np\n",
    "import matplotlib.pyplot as plt\n",
    "import datetime\n",
    "import functions as fun\n",
    "plt.rcParams['figure.figsize'] = [20, 10]\n",
    "\n",
    "store_df = pd.read_csv('data/store.csv')\n",
    "train_df = pd.read_csv('data/train.csv')\n",
    "\n",
    "def merge_files(left_df, right_df):\n",
    "    df = left_df.merge(right_df, on='Store', how='left')\n",
    "    return df"
   ]
  },
  {
   "cell_type": "code",
   "execution_count": 3,
   "metadata": {},
   "outputs": [
    {
     "name": "stdout",
     "output_type": "stream",
     "text": [
      "Store                          0\n",
      "StoreType                      0\n",
      "Assortment                     0\n",
      "CompetitionDistance            3\n",
      "CompetitionOpenSinceMonth    354\n",
      "CompetitionOpenSinceYear     354\n",
      "Promo2                         0\n",
      "Promo2SinceWeek              544\n",
      "Promo2SinceYear              544\n",
      "PromoInterval                544\n",
      "dtype: int64\n",
      "Date                 0\n",
      "Store            19301\n",
      "DayOfWeek        19017\n",
      "Sales            19027\n",
      "Customers        19091\n",
      "Open             19186\n",
      "Promo            19194\n",
      "StateHoliday     19254\n",
      "SchoolHoliday    19337\n",
      "dtype: int64\n"
     ]
    }
   ],
   "source": [
    "print(store_df.isnull().sum())\n",
    "print(train_df.isnull().sum())"
   ]
  },
  {
   "cell_type": "code",
   "execution_count": 4,
   "metadata": {},
   "outputs": [
    {
     "name": "stdout",
     "output_type": "stream",
     "text": [
      "True\n"
     ]
    }
   ],
   "source": [
    "#\n",
    "# CLEANING STORE DATA\n",
    "#\n",
    "\n",
    "# Promo2SinceWeek, Promo2SinceYear, PromoInterval are only NaN when Promo2 is 0, so it's not a problem:\n",
    "print(store_df.loc[(store_df['Promo2'] == 0) & \n",
    "                   ~pd.isna(store_df['Promo2SinceWeek']) & \n",
    "                   ~pd.isna(store_df['Promo2SinceYear']) & \n",
    "                   ~pd.isna(store_df['PromoInterval'])].empty)\n",
    "\n",
    "# We fill the competition dates with our firs day of data:\n",
    "store_df_clean = store_df.fillna({'CompetitionOpenSinceYear':2013.0})\n",
    "store_df_clean = store_df_clean.fillna({'CompetitionOpenSinceMonth':1.0})\n",
    "\n",
    "#store_df_clean.head(50)"
   ]
  },
  {
   "cell_type": "code",
   "execution_count": 5,
   "metadata": {},
   "outputs": [
    {
     "data": {
      "text/html": [
       "<div>\n",
       "<style scoped>\n",
       "    .dataframe tbody tr th:only-of-type {\n",
       "        vertical-align: middle;\n",
       "    }\n",
       "\n",
       "    .dataframe tbody tr th {\n",
       "        vertical-align: top;\n",
       "    }\n",
       "\n",
       "    .dataframe thead th {\n",
       "        text-align: right;\n",
       "    }\n",
       "</style>\n",
       "<table border=\"1\" class=\"dataframe\">\n",
       "  <thead>\n",
       "    <tr style=\"text-align: right;\">\n",
       "      <th></th>\n",
       "      <th>Store</th>\n",
       "      <th>StoreType</th>\n",
       "      <th>Assortment</th>\n",
       "      <th>CompetitionDistance</th>\n",
       "      <th>CompetitionOpenSinceMonth</th>\n",
       "      <th>CompetitionOpenSinceYear</th>\n",
       "      <th>Promo2</th>\n",
       "      <th>Promo2SinceWeek</th>\n",
       "      <th>Promo2SinceYear</th>\n",
       "      <th>PromoInterval</th>\n",
       "    </tr>\n",
       "  </thead>\n",
       "  <tbody>\n",
       "    <tr>\n",
       "      <th>290</th>\n",
       "      <td>291</td>\n",
       "      <td>d</td>\n",
       "      <td>a</td>\n",
       "      <td>NaN</td>\n",
       "      <td>1.0</td>\n",
       "      <td>2013.0</td>\n",
       "      <td>0</td>\n",
       "      <td>NaN</td>\n",
       "      <td>NaN</td>\n",
       "      <td>NaN</td>\n",
       "    </tr>\n",
       "    <tr>\n",
       "      <th>621</th>\n",
       "      <td>622</td>\n",
       "      <td>a</td>\n",
       "      <td>c</td>\n",
       "      <td>NaN</td>\n",
       "      <td>1.0</td>\n",
       "      <td>2013.0</td>\n",
       "      <td>0</td>\n",
       "      <td>NaN</td>\n",
       "      <td>NaN</td>\n",
       "      <td>NaN</td>\n",
       "    </tr>\n",
       "    <tr>\n",
       "      <th>878</th>\n",
       "      <td>879</td>\n",
       "      <td>d</td>\n",
       "      <td>a</td>\n",
       "      <td>NaN</td>\n",
       "      <td>1.0</td>\n",
       "      <td>2013.0</td>\n",
       "      <td>1</td>\n",
       "      <td>5.0</td>\n",
       "      <td>2013.0</td>\n",
       "      <td>Feb,May,Aug,Nov</td>\n",
       "    </tr>\n",
       "  </tbody>\n",
       "</table>\n",
       "</div>"
      ],
      "text/plain": [
       "     Store StoreType Assortment  CompetitionDistance  \\\n",
       "290    291         d          a                  NaN   \n",
       "621    622         a          c                  NaN   \n",
       "878    879         d          a                  NaN   \n",
       "\n",
       "     CompetitionOpenSinceMonth  CompetitionOpenSinceYear  Promo2  \\\n",
       "290                        1.0                    2013.0       0   \n",
       "621                        1.0                    2013.0       0   \n",
       "878                        1.0                    2013.0       1   \n",
       "\n",
       "     Promo2SinceWeek  Promo2SinceYear    PromoInterval  \n",
       "290              NaN              NaN              NaN  \n",
       "621              NaN              NaN              NaN  \n",
       "878              5.0           2013.0  Feb,May,Aug,Nov  "
      ]
     },
     "execution_count": 5,
     "metadata": {},
     "output_type": "execute_result"
    }
   ],
   "source": [
    "# There are 3 NaN spaces with in 'CompetitionDistance':\n",
    "store_df_clean.loc[pd.isna(store_df_clean['CompetitionDistance'])].head()"
   ]
  },
  {
   "cell_type": "code",
   "execution_count": 6,
   "metadata": {},
   "outputs": [
    {
     "name": "stderr",
     "output_type": "stream",
     "text": [
      "/home/mat/anaconda3/envs/mini-comp/lib/python3.6/site-packages/numpy/lib/histograms.py:839: RuntimeWarning: invalid value encountered in greater_equal\n",
      "  keep = (tmp_a >= first_edge)\n",
      "/home/mat/anaconda3/envs/mini-comp/lib/python3.6/site-packages/numpy/lib/histograms.py:840: RuntimeWarning: invalid value encountered in less_equal\n",
      "  keep &= (tmp_a <= last_edge)\n"
     ]
    },
    {
     "data": {
      "image/png": "[encoded data removed]",
      "text/plain": [
       "<Figure size 1440x720 with 1 Axes>"
      ]
     },
     "metadata": {
      "needs_background": "light"
     },
     "output_type": "display_data"
    }
   ],
   "source": [
    "# Plotting distribution, mean and median to see which value we could use to fill the gaps: \n",
    "mean = store_df_clean[\"CompetitionDistance\"].mean(axis=0)\n",
    "median = store_df_clean[\"CompetitionDistance\"].median(axis=0)\n",
    "plt.hist(store_df_clean[\"CompetitionDistance\"], bins=50)\n",
    "plt.axvline(mean, color='r', linestyle='dashed', linewidth=4)\n",
    "plt.axvline(median, color='g', linestyle='dashed', linewidth=4)\n",
    "\n",
    "# Seems like median is a reasonable value to fill those NaN spaces:\n",
    "store_df_clean = store_df_clean.fillna({'CompetitionDistance':median})"
   ]
  },
  {
   "cell_type": "code",
   "execution_count": 7,
   "metadata": {},
   "outputs": [],
   "source": [
    "#\n",
    "# MERGE TRAIN AND STORE DATA AND CLEAN\n",
    "#\n",
    "df = train_df.merge(store_df_clean, on='Store', how='left')\n",
    "#df.loc[df['Date'] == '2013-01-21'].head(50)"
   ]
  },
  {
   "cell_type": "code",
   "execution_count": 8,
   "metadata": {},
   "outputs": [
    {
     "name": "stdout",
     "output_type": "stream",
     "text": [
      "Date                              0\n",
      "Store                         19301\n",
      "DayOfWeek                     19017\n",
      "Sales                         19027\n",
      "Customers                     19091\n",
      "Open                          19186\n",
      "Promo                         19194\n",
      "StateHoliday                  19254\n",
      "SchoolHoliday                 19337\n",
      "StoreType                     19301\n",
      "Assortment                    19301\n",
      "CompetitionDistance           19301\n",
      "CompetitionOpenSinceMonth     19301\n",
      "CompetitionOpenSinceYear      19301\n",
      "Promo2                        19301\n",
      "Promo2SinceWeek              322946\n",
      "Promo2SinceYear              322946\n",
      "PromoInterval                322946\n",
      "dtype: int64\n"
     ]
    }
   ],
   "source": [
    "print(df.isnull().sum())"
   ]
  },
  {
   "cell_type": "code",
   "execution_count": 9,
   "metadata": {},
   "outputs": [],
   "source": [
    "# Convert Date column to DateTime\n",
    "df2 = df\n",
    "df2['Date'] = pd.to_datetime(df2['Date'])\n",
    "#df2.head(50)"
   ]
  },
  {
   "cell_type": "code",
   "execution_count": 10,
   "metadata": {},
   "outputs": [
    {
     "name": "stderr",
     "output_type": "stream",
     "text": [
      "/home/mat/anaconda3/envs/mini-comp/lib/python3.6/site-packages/pandas/core/indexing.py:671: SettingWithCopyWarning: \n",
      "A value is trying to be set on a copy of a slice from a DataFrame\n",
      "\n",
      "See the caveats in the documentation: https://pandas.pydata.org/pandas-docs/stable/user_guide/indexing.html#returning-a-view-versus-a-copy\n",
      "  self._setitem_with_indexer(indexer, value)\n"
     ]
    }
   ],
   "source": [
    "# Set NaN values on 'DayOfWeek', 'StateHoliday' and 'SchoolHoliday' to the mode of the same day (most common value of all stores)\n",
    "\n",
    "ids = pd.isnull(df2['DayOfWeek'])\n",
    "df3 = df2\n",
    "for i in range(df3.shape[0]):\n",
    "    if pd.isna(df3['DayOfWeek'].iloc[i]):\n",
    "        date = df3['Date'].iloc[i]\n",
    "        mode = df3['DayOfWeek'].loc[df3['Date'] == date].mode()\n",
    "        df3['DayOfWeek'].iloc[i] = mode[0]\n",
    "    if pd.isna(df3['StateHoliday'].iloc[i]):\n",
    "        date = df3['Date'].iloc[i]\n",
    "        mode = df3['StateHoliday'].loc[df3['Date'] == date].mode()\n",
    "        df3['StateHoliday'].iloc[i] = mode[0]\n",
    "    if pd.isna(df3['SchoolHoliday'].iloc[i]):\n",
    "        date = df3['Date'].iloc[i]\n",
    "        mode = df3['SchoolHoliday'].loc[df3['Date'] == date].mode()\n",
    "        df3['SchoolHoliday'].iloc[i] = mode[0]\n",
    "    \n",
    "#df3.head(50)"
   ]
  },
  {
   "cell_type": "code",
   "execution_count": 11,
   "metadata": {},
   "outputs": [],
   "source": [
    "# Save\n",
    "df3.to_pickle('data/clean_data.pkl')"
   ]
  },
  {
   "cell_type": "code",
   "execution_count": 12,
   "metadata": {},
   "outputs": [],
   "source": [
    "# Load to check that it's fine and print data for a single store\n",
    "df4 = pd.read_pickle('data/clean_data_post_comp.pkl')\n",
    "#df4.loc[df['Store'] == 330].head(50)"
   ]
  },
  {
   "cell_type": "code",
   "execution_count": 13,
   "metadata": {},
   "outputs": [],
   "source": [
    "# Fill NaN 'Promo' as 0:\n",
    "df5 = df4.fillna({'Promo':0})"
   ]
  },
  {
   "cell_type": "code",
   "execution_count": 15,
   "metadata": {},
   "outputs": [],
   "source": [
    "# Remove all rows with Sales = 0 (don't matter for the model):\n",
    "df6 = df5[df5['Sales'] != 0]\n",
    "\n",
    "# That should also include rows where Sales = NaN, but Open = 0:\n",
    "#df6 = df6.drop(df6['Open'].loc[df6['Open']==0].index)\n",
    "\n",
    "#df6.head(50)"
   ]
  },
  {
   "cell_type": "code",
   "execution_count": null,
   "metadata": {},
   "outputs": [],
   "source": [
    "# As we are not using zero-sale days, 'Open' cells will always be 1, \n",
    "# therefore it doesn't offer any information to our model, so we delete this column entirely:\n",
    "df7 = df6.drop(columns='Open')"
   ]
  },
  {
   "cell_type": "code",
   "execution_count": null,
   "metadata": {},
   "outputs": [],
   "source": [
    "df7.to_pickle('data/clean_data_post_comp.pkl')"
   ]
  },
  {
   "cell_type": "code",
   "execution_count": null,
   "metadata": {},
   "outputs": [],
   "source": [
    "# TODO: clean NaN from 'Stores' first, then delete the dropna part from cell below"
   ]
  },
  {
   "cell_type": "code",
   "execution_count": null,
   "metadata": {},
   "outputs": [],
   "source": [
    "empty_sales_df = df7.loc[pd.isna(df7['Sales']) & df7['StateHoliday'] == 0].dropna(subset = [\"Store\"])\n",
    "empty_sales_df.head(50)"
   ]
  },
  {
   "cell_type": "code",
   "execution_count": null,
   "metadata": {},
   "outputs": [],
   "source": [
    "# Fill all NaN Sales with the average of the past 4 weeks on that same week day\n",
    "# Only for days where StateHoliday = 0\n",
    "\n",
    "empty_sales_df = df7.loc[pd.isna(df7['Sales']) & df7['StateHoliday'] == 0].dropna(subset = [\"Store\"])\n",
    "\n",
    "df8 = df7\n",
    "\n",
    "for i in range(100):#empty_sales_df.shape[0]):\n",
    "    target_date = empty_sales_df.iloc[i, 0]\n",
    "    target_store = empty_sales_df.iloc[i, 1]\n",
    "    target_weekday = empty_sales_df.iloc[i, 2]\n",
    "    target_store_df = df8.loc[df8['Store'] == target_store]\n",
    "    df_filtered_weekday = target_store_df.loc[target_store_df['DayOfWeek'] == target_weekday]\n",
    "    df_filtered_weekday2 = df_filtered_weekday.reset_index()\n",
    "    \n",
    "    # If January 2013 (first month in dataset), then take average of January:\n",
    "    if(empty_sales_df.iloc[i, 0].month == 1 and empty_sales_df.iloc[i, 0].year == 2013):\n",
    "        mean = df_filtered_weekday2.iloc[0:3].dropna(subset = [\"Sales\"])['Sales'].mean()\n",
    "        print(df_filtered_weekday2.iloc[0:3].dropna(subset = [\"Sales\"])['Sales'])\n",
    "        \n",
    "    # If not, take the mean of last 4 weeks:\n",
    "    else:\n",
    "        idx_target = df_filtered_weekday2.loc[df_filtered_weekday2.Date == target_date].index.tolist()[0]\n",
    "        mean = df_filtered_weekday2.iloc[idx_target-4:idx_target].dropna(subset = [\"Sales\"])['Sales'].mean()\n",
    "    df8['Sales'].loc[(df8['Store']==target_store) & (df8['Date']==target_date)] = mean\n",
    "    #empty_sales_df['Sales'].loc[(empty_sales_df['Store']==target_store) & (empty_sales_df['Date']==target_date)] = mean"
   ]
  },
  {
   "cell_type": "code",
   "execution_count": null,
   "metadata": {},
   "outputs": [],
   "source": [
    "# TODO: Fill NaN in 'Customers'\n",
    "#       Suggestion: use some kind of average Sales per Customers metric"
   ]
  },
  {
   "cell_type": "code",
   "execution_count": null,
   "metadata": {},
   "outputs": [],
   "source": [
    "empty_sales_df.head(50)\n",
    "#df8.loc[pd.isna(df7['Sales'])].head(50)"
   ]
  },
  {
   "cell_type": "code",
   "execution_count": null,
   "metadata": {},
   "outputs": [],
   "source": [
    "df_filtered_weekday2.iloc[idx_target-4:idx_target]"
   ]
  },
  {
   "cell_type": "code",
   "execution_count": null,
   "metadata": {},
   "outputs": [],
   "source": [
    "target_store_df = df7.loc[df7['Store'] == target_store]\n",
    "df_filtered_weekday = target_store_df.loc[target_store_df['DayOfWeek']==target_row.iloc[0, 2]]\n",
    "df_filtered_weekday2 = df_filtered_weekday.reset_index()\n",
    "idx_target = df_filtered_weekday2.loc[df_filtered_weekday2.Date == target_row.iloc[0, 0]].index.tolist()[0]\n",
    "mean = df_filtered_weekday2.iloc[idx_target-4:idx_target]['Sales'].mean()\n",
    "df_filtered_weekday2.head(50)\n",
    "#df_filtered_weekday.iloc[idx_target]"
   ]
  },
  {
   "cell_type": "code",
   "execution_count": null,
   "metadata": {},
   "outputs": [],
   "source": [
    "df7['Sales'].loc[(df7['Store']==target_store) & (df7['Date']==target_date)]"
   ]
  },
  {
   "cell_type": "code",
   "execution_count": null,
   "metadata": {},
   "outputs": [],
   "source": [
    "df8.isnull().sum()"
   ]
  },
  {
   "cell_type": "code",
   "execution_count": null,
   "metadata": {},
   "outputs": [],
   "source": [
    "df8.to_pickle('data/clean_data_post_comp.pkl')"
   ]
  }
 ],
 "metadata": {
  "kernelspec": {
   "display_name": "Python 3",
   "language": "python",
   "name": "python3"
  },
  "language_info": {
   "codemirror_mode": {
    "name": "ipython",
    "version": 3
   },
   "file_extension": ".py",
   "mimetype": "text/x-python",
   "name": "python",
   "nbconvert_exporter": "python",
   "pygments_lexer": "ipython3",
   "version": "3.6.10"
  }
 },
 "nbformat": 4,
 "nbformat_minor": 4
}
